{
 "cells": [
  {
   "cell_type": "markdown",
   "id": "4701d153-83ff-4f03-bf7d-aeff5fb995b6",
   "metadata": {},
   "source": [
    "#  Project 1 - NY Motor Vehicle Collisions - Crashes "
   ]
  },
  {
   "cell_type": "code",
   "execution_count": 2,
   "id": "5dab5b69-062e-4334-bf80-3f62ec5c081e",
   "metadata": {},
   "outputs": [],
   "source": [
    "import pandas as pd\n",
    "df = pd.read_pickle(r\"shared/Motor_Vehicle_Collisions_-_Crashes.pkl\")"
   ]
  },
  {
   "cell_type": "markdown",
   "id": "033d16a7-d1d1-4fd3-951f-45d884f6434a",
   "metadata": {},
   "source": [
    "load the data"
   ]
  },
  {
   "cell_type": "code",
   "execution_count": 27,
   "id": "dd91ac7f-3a2e-405c-9bbb-845c0766c403",
   "metadata": {},
   "outputs": [
    {
     "data": {
      "text/plain": [
       "Index(['CRASH DATE_CRASH TIME', 'BOROUGH', 'ZIP CODE', 'LATITUDE', 'LONGITUDE',\n",
       "       'LOCATION', 'ON STREET NAME', 'CROSS STREET NAME', 'OFF STREET NAME',\n",
       "       'NUMBER OF PERSONS INJURED', 'NUMBER OF PERSONS KILLED',\n",
       "       'NUMBER OF PEDESTRIANS INJURED', 'NUMBER OF PEDESTRIANS KILLED',\n",
       "       'NUMBER OF CYCLIST INJURED', 'NUMBER OF CYCLIST KILLED',\n",
       "       'NUMBER OF MOTORIST INJURED', 'NUMBER OF MOTORIST KILLED',\n",
       "       'CONTRIBUTING FACTOR VEHICLE 1', 'CONTRIBUTING FACTOR VEHICLE 2',\n",
       "       'CONTRIBUTING FACTOR VEHICLE 3', 'CONTRIBUTING FACTOR VEHICLE 4',\n",
       "       'CONTRIBUTING FACTOR VEHICLE 5', 'COLLISION_ID', 'VEHICLE TYPE CODE 1',\n",
       "       'VEHICLE TYPE CODE 2', 'VEHICLE TYPE CODE 3', 'VEHICLE TYPE CODE 4',\n",
       "       'VEHICLE TYPE CODE 5'],\n",
       "      dtype='object')"
      ]
     },
     "execution_count": 27,
     "metadata": {},
     "output_type": "execute_result"
    }
   ],
   "source": [
    "df.columns"
   ]
  },
  {
   "cell_type": "markdown",
   "id": "e9e6aac1-bbcc-4465-8d89-c785305d2e07",
   "metadata": {},
   "source": [
    "## Question 1"
   ]
  },
  {
   "cell_type": "code",
   "execution_count": 28,
   "id": "9ccea03e-794a-4d7a-b934-8662b6d4be5e",
   "metadata": {},
   "outputs": [
    {
     "name": "stdout",
     "output_type": "stream",
     "text": [
      " The second highest total number of crashes reported since 2012 is QUEENS\n"
     ]
    }
   ],
   "source": [
    "df['year'] = pd.to_datetime(df['CRASH DATE_CRASH TIME']).dt.year  \n",
    "df = df[df['year'] >= 2012]\n",
    "crash_counts = df['BOROUGH'].value_counts()\n",
    "second_highest_borough = crash_counts.sort_values(ascending=False).index[1]  \n",
    "print(' The second highest total number of crashes reported since 2012 is',second_highest_borough)"
   ]
  },
  {
   "cell_type": "markdown",
   "id": "8dd9007a-f911-4bef-8159-588258b514ae",
   "metadata": {},
   "source": [
    "What I did for firstly is trying to read the year, and make sure I am checking the data after 2012, and then I count numbers of borough, and print the second highest with index[1]."
   ]
  },
  {
   "cell_type": "markdown",
   "id": "aad372fc-8722-494f-8019-cb46f4188a34",
   "metadata": {},
   "source": [
    "## Question 2\n"
   ]
  },
  {
   "cell_type": "code",
   "execution_count": 44,
   "id": "8da04777-df93-4436-a6b7-c16bbb7840a7",
   "metadata": {},
   "outputs": [
    {
     "name": "stdout",
     "output_type": "stream",
     "text": [
      "Manhattan has the most crashes\n"
     ]
    }
   ],
   "source": [
    "bronx_population = 1446788\n",
    "brooklyn_population = 2648452\n",
    "manhattan_population = 1638281\n",
    "queens_population = 2330295\n",
    "staten_island_population = 487155\n",
    "\n",
    "brooklyn_crashes = crash_counts['BROOKLYN']\n",
    "queens_crashes = crash_counts['QUEENS']\n",
    "manhattan_crashes = crash_counts['MANHATTAN']\n",
    "bronx_crashes = crash_counts['BRONX']\n",
    "staten_island_crashes = crash_counts['STATEN ISLAND']\n",
    "bronx_crash_rate = (bronx_crashes / bronx_population) * 100000\n",
    "brooklyn_crash_rate = (brooklyn_crashes / brooklyn_population) * 100000\n",
    "manhattan_crash_rate = (manhattan_crashes / manhattan_population) * 100000\n",
    "queens_crash_rate = (queens_crashes / queens_population) * 100000\n",
    "staten_island_crash_rate = (staten_island_crashes / staten_island_population) * 100000\n",
    "borough_crash_rates = {\n",
    "    \"Bronx\": bronx_crash_rate,\n",
    "    \"Brooklyn\": brooklyn_crash_rate,\n",
    "    \"Manhattan\": manhattan_crash_rate,\n",
    "    \"Queens\": queens_crash_rate,\n",
    "    \"Staten Island\": staten_island_crash_rate\n",
    "}\n",
    "\n",
    "highest_crash_rate_borough = max(borough_crash_rates, key=borough_crash_rates.get)\n",
    "\n",
    "print(highest_crash_rate_borough,'has the most crashes.')\n"
   ]
  },
  {
   "cell_type": "code",
   "execution_count": 46,
   "id": "46efc622-4990-4dc7-a64a-fddf15651875",
   "metadata": {},
   "outputs": [
    {
     "name": "stdout",
     "output_type": "stream",
     "text": [
      "The number of most crashes manhattan is 19121.628096767283\n"
     ]
    }
   ],
   "source": [
    "print('The number of most crashes manhattan is', manhattan_crash_rate)"
   ]
  },
  {
   "cell_type": "markdown",
   "id": "eb2dbbe8-3ecc-42d8-8fa0-ebf1e6760de4",
   "metadata": {},
   "source": [
    "What I do here defines the population as what I got, and then do the formula to get the crash rate for each and then decide the most crashes among those 5."
   ]
  },
  {
   "cell_type": "markdown",
   "id": "6f56ebcd-7df8-46e8-a174-ba2b6cda5cca",
   "metadata": {},
   "source": [
    "# Question 3"
   ]
  },
  {
   "cell_type": "code",
   "execution_count": 54,
   "id": "dc8f4b5e-12e9-4116-ae33-7ffeab029a3c",
   "metadata": {},
   "outputs": [
    {
     "name": "stdout",
     "output_type": "stream",
     "text": [
      "The leading cause of crashes is: Driver Inattention/Distraction\n",
      "The proportion of accidents attributable to Driver Inattention/Distraction: 30.27%\n"
     ]
    }
   ],
   "source": [
    "filtered_df = df[df['CONTRIBUTING FACTOR VEHICLE 1'] != 'Unspecified']\n",
    "leading_cause = filtered_df['CONTRIBUTING FACTOR VEHICLE 1'].value_counts().idxmax()\n",
    "total_crashes = len(filtered_df)\n",
    "crashes_due_to_leading_cause = filtered_df['CONTRIBUTING FACTOR VEHICLE 1'].value_counts().max()\n",
    "proportion = (crashes_due_to_leading_cause / total_crashes) * 100\n",
    "\n",
    "print(f\"The leading cause of crashes is: {leading_cause}\")\n",
    "print(f\"The proportion of accidents attributable to {leading_cause}: {proportion:.2f}%\")"
   ]
  },
  {
   "cell_type": "markdown",
   "id": "7c12a9ec-67d0-48a1-bc90-0f91f769a830",
   "metadata": {},
   "source": [
    "Firstly I removed all rolls where the contributing factor vehicle 1 is not known. And then calculating the proportion of accidents."
   ]
  },
  {
   "cell_type": "markdown",
   "id": "6783a1f1-3270-4fea-8bd5-0b6aa0acf707",
   "metadata": {},
   "source": [
    "# Question 4"
   ]
  },
  {
   "cell_type": "code",
   "execution_count": 55,
   "id": "a66488f6-268e-4643-8031-b810b9364007",
   "metadata": {},
   "outputs": [
    {
     "name": "stdout",
     "output_type": "stream",
     "text": [
      "The proportion of total crashes accounted for by the top 5 causes: 57.76%\n"
     ]
    }
   ],
   "source": [
    "top_5_causes = filtered_df['CONTRIBUTING FACTOR VEHICLE 1'].value_counts().head(5)\n",
    "top_5_crashes_count = top_5_causes.sum()\n",
    "proportion_of_top_5 = (top_5_crashes_count / total_crashes) * 100\n",
    "print(f\"The proportion of total crashes accounted for by the top 5 causes: {proportion_of_top_5:.2f}%\")\n"
   ]
  },
  {
   "cell_type": "markdown",
   "id": "bc1ef7fa-c699-4119-b630-6ab8e5d58f78",
   "metadata": {},
   "source": [
    "Get the data for top 5 causes and then sum them up. Calculating the proportion."
   ]
  },
  {
   "cell_type": "markdown",
   "id": "05358a5d-1909-482f-add1-ca94c364644a",
   "metadata": {},
   "source": [
    "# Question 5"
   ]
  },
  {
   "cell_type": "code",
   "execution_count": 56,
   "id": "1fff6739-2666-4962-b636-cdea617ba206",
   "metadata": {},
   "outputs": [
    {
     "name": "stdout",
     "output_type": "stream",
     "text": [
      "The total count of accidents with two or more fatalities since 2012: 88\n"
     ]
    }
   ],
   "source": [
    "df['NUMBER OF PERSONS KILLED'] = df['NUMBER OF PERSONS KILLED'].fillna(0)\n",
    "fatal_accidents = df[df['NUMBER OF PERSONS KILLED'] >= 2]\n",
    "total_fatal_accidents = len(fatal_accidents)\n",
    "print(f\"The total count of accidents with two or more fatalities since 2012: {total_fatal_accidents}\")\n"
   ]
  },
  {
   "cell_type": "markdown",
   "id": "f9ffe990-1dca-43f4-8030-d378cab8aeea",
   "metadata": {},
   "source": [
    "I replace the missing values with 0, and then adding the filter that involved two or more fatalities. Lastly get the number."
   ]
  },
  {
   "cell_type": "markdown",
   "id": "dc7dc0ef-1330-4fbb-a2c8-bc700ba81413",
   "metadata": {},
   "source": [
    "# Qustion 6"
   ]
  },
  {
   "cell_type": "code",
   "execution_count": 57,
   "id": "10b2241a-a582-4f5f-b247-bfc954af9ba5",
   "metadata": {},
   "outputs": [
    {
     "name": "stdout",
     "output_type": "stream",
     "text": [
      "The average for every 1000 accidents, 1.39 have resulted in at least one death.\n"
     ]
    }
   ],
   "source": [
    "fatal_accidents_count = df[df['NUMBER OF PERSONS KILLED'] >= 1].shape[0]\n",
    "total_accidents = df.shape[0]\n",
    "average_fatal_per_1000 = (fatal_accidents_count / total_accidents) * 1000\n",
    "print(f\"The average for every 1000 accidents, {average_fatal_per_1000:.2f} have resulted in at least one death.\")\n"
   ]
  },
  {
   "cell_type": "markdown",
   "id": "6b1fe939-a835-414b-b15a-ece203b40018",
   "metadata": {},
   "source": [
    "Counting the accidents with one or more deaths, and then sum them up. Calculating the proportion, print the number."
   ]
  },
  {
   "cell_type": "markdown",
   "id": "5745d9ff-685f-4629-9ef9-c0bcdfd0dd42",
   "metadata": {},
   "source": [
    "# Question 7"
   ]
  },
  {
   "cell_type": "code",
   "execution_count": 59,
   "id": "dfb72a98-8f4b-4df0-b05d-128bbd0c0a34",
   "metadata": {},
   "outputs": [
    {
     "name": "stdout",
     "output_type": "stream",
     "text": [
      "Proportion of accidents without a Cross Street Name: 37.44%\n"
     ]
    }
   ],
   "source": [
    "missing_cross_street_count = df[df['CROSS STREET NAME'].isnull()].shape[0]\n",
    "total_accidents = df.shape[0]\n",
    "proportion_missing_cross_street = (missing_cross_street_count / total_accidents) * 100\n",
    "print(f\"Proportion of accidents without a Cross Street Name: {proportion_missing_cross_street:.2f}%\")\n"
   ]
  },
  {
   "cell_type": "markdown",
   "id": "69c94810-2c82-4fdd-bd5e-833513b5e13b",
   "metadata": {},
   "source": [
    "First I need to count the number that does not include cross street name, sum them up, calculate the proportion."
   ]
  },
  {
   "cell_type": "markdown",
   "id": "6674669e-54cf-4302-9fed-448fa3b60a7d",
   "metadata": {},
   "source": [
    "# Question 8"
   ]
  },
  {
   "cell_type": "code",
   "execution_count": 6,
   "id": "bfa8e36b-8960-43b2-9421-119a10925cd0",
   "metadata": {},
   "outputs": [
    {
     "data": {
      "text/plain": [
       "VEHICLE TYPE CODE 1                  VEHICLE TYPE CODE 2                \n",
       ".                                    Sedan                                       1\n",
       "Sedan                                UPS Van                                     1\n",
       "                                     UPS Truck                                   1\n",
       "                                     UPS TRUCK                                   1\n",
       "                                     UNNKO                                       1\n",
       "                                                                             ...  \n",
       "Station Wagon/Sport Utility Vehicle  Sedan                                  123812\n",
       "Sedan                                Station Wagon/Sport Utility Vehicle    123915\n",
       "Station Wagon/Sport Utility Vehicle  Station Wagon/Sport Utility Vehicle    133780\n",
       "PASSENGER VEHICLE                    PASSENGER VEHICLE                      193260\n",
       "Sedan                                Sedan                                  197944\n",
       "Length: 6896, dtype: int64"
      ]
     },
     "execution_count": 6,
     "metadata": {},
     "output_type": "execute_result"
    }
   ],
   "source": [
    "vehicle_df = df[ (~df['VEHICLE TYPE CODE 1'].isnull()) & (~df['VEHICLE TYPE CODE 2'].isnull()) ]\n",
    "vehicle_df.groupby(by= ['VEHICLE TYPE CODE 1', 'VEHICLE TYPE CODE 2']).size().sort_values()"
   ]
  },
  {
   "cell_type": "markdown",
   "id": "1a6c21a1-2d55-408f-9691-f7531d4eaa89",
   "metadata": {},
   "source": [
    "I try to make sure that vehicle type code 1 and vehicle type code 2 have no null and then just sort the value to  see the size of combination,"
   ]
  },
  {
   "cell_type": "markdown",
   "id": "ea60a5e1-6701-4b88-9991-5fa05d7b28cf",
   "metadata": {},
   "source": [
    "# Question 9"
   ]
  },
  {
   "cell_type": "code",
   "execution_count": 71,
   "id": "54c724f5-2ea0-4d36-ad5e-84acca4597a5",
   "metadata": {},
   "outputs": [
    {
     "name": "stdout",
     "output_type": "stream",
     "text": [
      "Proportion of alcohol-involved crashes resulting in a fatality: 0.47%\n"
     ]
    },
    {
     "name": "stderr",
     "output_type": "stream",
     "text": [
      "/tmp/ipykernel_137/1804066606.py:3: SettingWithCopyWarning: \n",
      "A value is trying to be set on a copy of a slice from a DataFrame.\n",
      "Try using .loc[row_indexer,col_indexer] = value instead\n",
      "\n",
      "See the caveats in the documentation: https://pandas.pydata.org/pandas-docs/stable/user_guide/indexing.html#returning-a-view-versus-a-copy\n",
      "  alcohol_involved_crashes['NUMBER OF PERSONS KILLED'] = alcohol_involved_crashes['NUMBER OF PERSONS KILLED'].fillna(0)\n"
     ]
    }
   ],
   "source": [
    "import pandas as pd\n",
    "alcohol_involved_crashes = df[df['CONTRIBUTING FACTOR VEHICLE 1'] == 'Alcohol Involvement']\n",
    "alcohol_involved_crashes['NUMBER OF PERSONS KILLED'] = alcohol_involved_crashes['NUMBER OF PERSONS KILLED'].fillna(0)\n",
    "fatal_alcohol_crashes = alcohol_involved_crashes[alcohol_involved_crashes['NUMBER OF PERSONS KILLED'] > 0]\n",
    "proportion_fatal = (len(fatal_alcohol_crashes) / len(alcohol_involved_crashes)) * 100\n",
    "print(f\"Proportion of alcohol-involved crashes resulting in a fatality: {proportion_fatal:.2f}%\")\n"
   ]
  },
  {
   "cell_type": "markdown",
   "id": "2013b36f-2caf-470c-9156-c85a3b55fd92",
   "metadata": {},
   "source": [
    "I did the filter which check factor vehicle 1 == alcohol involvement, and then replace the missing number with 0. Calculating the proportion."
   ]
  },
  {
   "cell_type": "markdown",
   "id": "3b6b554d-9c3f-4b8a-a41e-b68715821990",
   "metadata": {},
   "source": [
    "# Question 10"
   ]
  },
  {
   "cell_type": "code",
   "execution_count": 72,
   "id": "827675ea-91ac-483f-8cab-70ebc50561b3",
   "metadata": {},
   "outputs": [
    {
     "name": "stdout",
     "output_type": "stream",
     "text": [
      "Proportion of crashes during evening rush hour (4 PM - 7 PM): 20.51%\n"
     ]
    }
   ],
   "source": [
    "df['CRASH DATE_CRASH TIME'] = pd.to_datetime(df['CRASH DATE_CRASH TIME'])\n",
    "evening_rush_hour_crashes = df[(df['CRASH DATE_CRASH TIME'].dt.hour >= 16) & (df['CRASH DATE_CRASH TIME'].dt.hour < 19)]\n",
    "total_crashes = len(df)\n",
    "evening_rush_hour_crashes_count = len(evening_rush_hour_crashes)\n",
    "proportion_evening_rush_hour = (evening_rush_hour_crashes_count / total_crashes) * 100\n",
    "print(f\"Proportion of crashes during evening rush hour (4 PM - 7 PM): {proportion_evening_rush_hour:.2f}%\")\n"
   ]
  },
  {
   "cell_type": "markdown",
   "id": "abda6a23-cd5d-4968-a5ae-ed4a422d453f",
   "metadata": {},
   "source": [
    "Firstly we convert the index to datatime, and then setting the fliter 4pm-7pm which is 16-19. Do the calculation."
   ]
  },
  {
   "cell_type": "markdown",
   "id": "55f9a09a-66b1-42d7-8c98-57e871d4669e",
   "metadata": {},
   "source": [
    "# Question 11"
   ]
  },
  {
   "cell_type": "code",
   "execution_count": 73,
   "id": "30bcf3f1-d74e-4503-8b5b-05cad00cd93f",
   "metadata": {},
   "outputs": [
    {
     "name": "stdout",
     "output_type": "stream",
     "text": [
      "Proportion of motorcycle crashes resulting in injuries but no fatalities: 50.05%\n"
     ]
    }
   ],
   "source": [
    "motorcyclecrashes = df[(df['VEHICLE TYPE CODE 1'].str.contains('MOTORCYCLE', na=False)) | \n",
    "                        (df['VEHICLE TYPE CODE 2'].str.contains('MOTORCYCLE', na=False))]\n",
    "injuries_no_fatalities = motorcyclecrashes[(motorcyclecrashes['NUMBER OF PERSONS INJURED'] > 0) & \n",
    "                                            (motorcyclecrashes['NUMBER OF PERSONS KILLED'] == 0)]\n",
    "total_motorcycle_crashes = len(motorcyclecrashes)\n",
    "proportion = (len(injuries_no_fatalities) / total_motorcycle_crashes) * 100\n",
    "\n",
    "print(f\"Proportion of motorcycle crashes resulting in injuries but no fatalities: {proportion:.2f}%\")\n"
   ]
  },
  {
   "cell_type": "markdown",
   "id": "165ed546-5862-41a3-90f9-e745bc99b0f7",
   "metadata": {},
   "source": [
    "Making the filter that include only crashes where VEHICLE TYPE CODE 1 or VEHICLE TYPE CODE 2 contains the string MOTORCYCLE. And then check this reduced dataset for injuries greater than 0, and fatalities equal to 0."
   ]
  },
  {
   "cell_type": "markdown",
   "id": "2ddc1a5f-34cd-4762-ac6c-851e135e62ea",
   "metadata": {},
   "source": [
    "# Question 12"
   ]
  },
  {
   "cell_type": "code",
   "execution_count": 75,
   "id": "14417b47-2ea7-4230-bc57-a6d09c057b5d",
   "metadata": {},
   "outputs": [
    {
     "name": "stdout",
     "output_type": "stream",
     "text": [
      "Number of crashes involving bicycles: 19108\n"
     ]
    }
   ],
   "source": [
    "\n",
    "bicycle_crashes = df[(df['VEHICLE TYPE CODE 1'].str.contains('BICYCLE', na=False)) | \n",
    "                     (df['VEHICLE TYPE CODE 2'].str.contains('BICYCLE', na=False))]\n",
    "\n",
    "number_of_bicycle_crashes = len(bicycle_crashes)\n",
    "\n",
    "print(f\"Number of crashes involving bicycles: {number_of_bicycle_crashes}\")\n"
   ]
  },
  {
   "cell_type": "markdown",
   "id": "43330c83-fe25-4b03-974e-67bb160c55d6",
   "metadata": {},
   "source": [
    "Try to count the crashes involved bicycles as one of the vehicles"
   ]
  },
  {
   "cell_type": "code",
   "execution_count": 3,
   "id": "7e9d868d-58c2-4693-aa5d-1bc852070c3d",
   "metadata": {},
   "outputs": [
    {
     "data": {
      "text/plain": [
       "VEHICLE TYPE CODE 1                  VEHICLE TYPE CODE 2                \n",
       ".                                    Sedan                                       1\n",
       "Sedan                                UPS Van                                     1\n",
       "                                     UPS Truck                                   1\n",
       "                                     UPS TRUCK                                   1\n",
       "                                     UNNKO                                       1\n",
       "                                                                             ...  \n",
       "Station Wagon/Sport Utility Vehicle  Sedan                                  123812\n",
       "Sedan                                Station Wagon/Sport Utility Vehicle    123915\n",
       "Station Wagon/Sport Utility Vehicle  Station Wagon/Sport Utility Vehicle    133780\n",
       "PASSENGER VEHICLE                    PASSENGER VEHICLE                      193260\n",
       "Sedan                                Sedan                                  197944\n",
       "Length: 6896, dtype: int64"
      ]
     },
     "execution_count": 3,
     "metadata": {},
     "output_type": "execute_result"
    }
   ],
   "source": []
  },
  {
   "cell_type": "code",
   "execution_count": null,
   "id": "fb006f25-e668-40ad-a54f-90c67dfeead8",
   "metadata": {},
   "outputs": [],
   "source": []
  },
  {
   "cell_type": "code",
   "execution_count": null,
   "id": "c887115e-04a5-40bb-87d2-d06debf86a8b",
   "metadata": {},
   "outputs": [],
   "source": []
  }
 ],
 "metadata": {
  "kernelspec": {
   "display_name": "Python [conda env:mggy8413]",
   "language": "python",
   "name": "conda-env-mggy8413-py"
  },
  "language_info": {
   "codemirror_mode": {
    "name": "ipython",
    "version": 3
   },
   "file_extension": ".py",
   "mimetype": "text/x-python",
   "name": "python",
   "nbconvert_exporter": "python",
   "pygments_lexer": "ipython3",
   "version": "3.11.8"
  }
 },
 "nbformat": 4,
 "nbformat_minor": 5
}
